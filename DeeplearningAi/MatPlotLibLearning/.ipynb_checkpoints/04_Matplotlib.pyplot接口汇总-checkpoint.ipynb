{
 "cells": [
  {
   "cell_type": "markdown",
   "id": "575636b9-9302-4342-8085-d1305200e39c",
   "metadata": {
    "tags": []
   },
   "source": [
    "# Matplotlib.pyplot接口汇总\n",
    "- Matplotlib 中的 pyplot 模块是一个类似命令风格的函数集合，这使得 Matplotlib 的工作模式和 MATLAB 相似。\n",
    "- pyplot 模块提供了可以用来绘图的各种函数，比如创建一个画布，在画布中创建一个绘图区域，或是在绘图区域添加一些线、标签等。以下表格对这些函数做了简单地介绍。\n"
   ]
  },
  {
   "cell_type": "markdown",
   "id": "e8051d99-a8ea-46d1-baca-b4799fb8581a",
   "metadata": {},
   "source": [
    "## 绘图类型\n",
    "\n",
    "| 函数名称      | 描述                     |\n",
    "|------------|-------------------------|\n",
    "| Bar       | 绘制条形图                  |\n",
    "| Barh      | 绘制水平条形图                |\n",
    "| Boxplot   | 绘制箱型图                  |\n",
    "| Hist      | 绘制直方图                  |\n",
    "| his2d     | 绘制2D直方图                |\n",
    "| Pie       | 绘制饼状图                  |\n",
    "| Plot      | 在坐标轴上画线或者标记            |\n",
    "| Polar     | 绘制极坐标图                 |\n",
    "| Scatter   | 绘制x与y的散点图              |\n",
    "| Stackplot | 绘制堆叠图                  |\n",
    "| Stem      | 用来绘制二维离散数据绘制（又称为“火柴图”） |\n",
    "| Step      | 绘制阶梯图                  |\n",
    "| Quiver    | 绘制一个二维按箭头              |"
   ]
  },
  {
   "cell_type": "markdown",
   "id": "f79703c7-dfdc-4b2b-8fea-25d09a25d0a7",
   "metadata": {},
   "source": [
    "## Image函数\n",
    "\n",
    "| 函数名称      | 描述                     |\n",
    "|------------|-------------------------|\n",
    "| Imread    | 绘制条形图                  |\n",
    "| Imsave    | 绘制水平条形图                |\n",
    "| Imshow    | 绘制箱型图                  |"
   ]
  },
  {
   "cell_type": "markdown",
   "id": "9d36e36e-6e85-4970-ab46-c4a26a18fc7e",
   "metadata": {
    "tags": []
   },
   "source": [
    "## Axis函数\n",
    "\n",
    "| 函数名称   | 描述              |\n",
    "|--------|-----------------|\n",
    "| Axes   | 在画布(Figure)中添加轴 |\n",
    "| Text   | 向轴添加文本          |\n",
    "| Title  | 设置当前轴的标题        |\n",
    "| Xlabel | 设置x轴标签          |\n",
    "| Xlim   | 获取或者设置x轴区间大小    |\n",
    "| Xscale | 设置x轴缩放比例        |\n",
    "| Xticks | 获取或设置x轴刻标和相应标签  |\n",
    "| Ylabel | 设置y轴的标签         |\n",
    "| Ylim   | 获取或设置y轴的区间大小    |\n",
    "| Yscale | 设置y轴的缩放比例       |\n",
    "| Yticks | 获取或设置y轴的刻标和相应标签 |"
   ]
  },
  {
   "cell_type": "markdown",
   "id": "456ad5ec-5ab0-41e0-9c53-d39bdaded89e",
   "metadata": {},
   "source": [
    "## Figure函数\n",
    "\n",
    "| 函数名称    | 描述       |\n",
    "|---------|----------|\n",
    "| Figtext | 在画布上添加文本 |\n",
    "| Figure  | 创建一个新画布  |\n",
    "| Show    | 显示数字     |\n",
    "| Savefig | 保存当前画布   |\n",
    "| Close   | 关闭画布窗口   |"
   ]
  },
  {
   "cell_type": "code",
   "execution_count": null,
   "id": "b0d10de6-6c0f-4c75-888d-7282698ee865",
   "metadata": {},
   "outputs": [],
   "source": []
  }
 ],
 "metadata": {
  "kernelspec": {
   "display_name": "Python 3 (ipykernel)",
   "language": "python",
   "name": "python3"
  },
  "language_info": {
   "codemirror_mode": {
    "name": "ipython",
    "version": 3
   },
   "file_extension": ".py",
   "mimetype": "text/x-python",
   "name": "python",
   "nbconvert_exporter": "python",
   "pygments_lexer": "ipython3",
   "version": "3.10.9"
  }
 },
 "nbformat": 4,
 "nbformat_minor": 5
}
